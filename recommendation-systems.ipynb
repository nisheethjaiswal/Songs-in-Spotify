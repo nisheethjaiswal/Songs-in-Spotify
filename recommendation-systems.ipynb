{
 "cells": [
  {
   "cell_type": "markdown",
   "id": "prerequisite-single",
   "metadata": {
    "papermill": {
     "duration": 0.019565,
     "end_time": "2021-04-19T00:26:55.936043",
     "exception": false,
     "start_time": "2021-04-19T00:26:55.916478",
     "status": "completed"
    },
    "tags": []
   },
   "source": [
    "# BUILDING RECOMMENDATION SYSTEM FOR GIVEN SPOTIFY SONGS"
   ]
  },
  {
   "cell_type": "markdown",
   "id": "industrial-maker",
   "metadata": {
    "papermill": {
     "duration": 0.017201,
     "end_time": "2021-04-19T00:26:55.972167",
     "exception": false,
     "start_time": "2021-04-19T00:26:55.954966",
     "status": "completed"
    },
    "tags": []
   },
   "source": [
    "In this repository, I built recommendation system for given 42305 Spotify songs based on their genre, mode, and duration. <br>\n",
    "I used `sklearn.decomposition`' s NMF to did that, <br>\n",
    "and I preprocessed the data by `normalize` method of `sklearn.preprocessing` <br>\n",
    "I also replaced Na values with `sklearn.impute`s `SimpleImputer` <br>\n",
    "The source of data is: https://www.kaggle.com/mrmorj/dataset-of-songs-in-spotify"
   ]
  },
  {
   "cell_type": "markdown",
   "id": "reflected-burke",
   "metadata": {
    "papermill": {
     "duration": 0.019985,
     "end_time": "2021-04-19T00:26:56.010091",
     "exception": false,
     "start_time": "2021-04-19T00:26:55.990106",
     "status": "completed"
    },
    "tags": []
   },
   "source": [
    "#### IMPORTING NECESSARY LIBRARIES"
   ]
  },
  {
   "cell_type": "code",
   "execution_count": 1,
   "id": "detected-language",
   "metadata": {
    "execution": {
     "iopub.execute_input": "2021-04-19T00:26:56.053474Z",
     "iopub.status.busy": "2021-04-19T00:26:56.052790Z",
     "iopub.status.idle": "2021-04-19T00:27:03.337304Z",
     "shell.execute_reply": "2021-04-19T00:27:03.336355Z"
    },
    "papermill": {
     "duration": 7.308933,
     "end_time": "2021-04-19T00:27:03.337489",
     "exception": false,
     "start_time": "2021-04-19T00:26:56.028556",
     "status": "completed"
    },
    "tags": []
   },
   "outputs": [],
   "source": [
    "import pandas as pd\n",
    "import numpy as np\n",
    "import matplotlib as plt\n",
    "import seaborn as sns\n",
    "import tensorflow as tf"
   ]
  },
  {
   "cell_type": "markdown",
   "id": "extreme-teacher",
   "metadata": {
    "papermill": {
     "duration": 0.016804,
     "end_time": "2021-04-19T00:27:03.371926",
     "exception": false,
     "start_time": "2021-04-19T00:27:03.355122",
     "status": "completed"
    },
    "tags": []
   },
   "source": [
    "#### IMPORTING OUR DATASET"
   ]
  },
  {
   "cell_type": "code",
   "execution_count": 2,
   "id": "regular-search",
   "metadata": {
    "execution": {
     "iopub.execute_input": "2021-04-19T00:27:03.414064Z",
     "iopub.status.busy": "2021-04-19T00:27:03.413415Z",
     "iopub.status.idle": "2021-04-19T00:27:04.087365Z",
     "shell.execute_reply": "2021-04-19T00:27:04.086705Z"
    },
    "papermill": {
     "duration": 0.697286,
     "end_time": "2021-04-19T00:27:04.087536",
     "exception": false,
     "start_time": "2021-04-19T00:27:03.390250",
     "status": "completed"
    },
    "scrolled": true,
    "tags": []
   },
   "outputs": [
    {
     "name": "stderr",
     "output_type": "stream",
     "text": [
      "/opt/conda/lib/python3.7/site-packages/IPython/core/interactiveshell.py:3156: DtypeWarning: Columns (19) have mixed types.Specify dtype option on import or set low_memory=False.\n",
      "  interactivity=interactivity, compiler=compiler, result=result)\n"
     ]
    },
    {
     "data": {
      "text/html": [
       "<div>\n",
       "<style scoped>\n",
       "    .dataframe tbody tr th:only-of-type {\n",
       "        vertical-align: middle;\n",
       "    }\n",
       "\n",
       "    .dataframe tbody tr th {\n",
       "        vertical-align: top;\n",
       "    }\n",
       "\n",
       "    .dataframe thead th {\n",
       "        text-align: right;\n",
       "    }\n",
       "</style>\n",
       "<table border=\"1\" class=\"dataframe\">\n",
       "  <thead>\n",
       "    <tr style=\"text-align: right;\">\n",
       "      <th></th>\n",
       "      <th>danceability</th>\n",
       "      <th>energy</th>\n",
       "      <th>key</th>\n",
       "      <th>loudness</th>\n",
       "      <th>mode</th>\n",
       "      <th>speechiness</th>\n",
       "      <th>acousticness</th>\n",
       "      <th>instrumentalness</th>\n",
       "      <th>liveness</th>\n",
       "      <th>valence</th>\n",
       "      <th>...</th>\n",
       "      <th>id</th>\n",
       "      <th>uri</th>\n",
       "      <th>track_href</th>\n",
       "      <th>analysis_url</th>\n",
       "      <th>duration_ms</th>\n",
       "      <th>time_signature</th>\n",
       "      <th>genre</th>\n",
       "      <th>song_name</th>\n",
       "      <th>Unnamed: 0</th>\n",
       "      <th>title</th>\n",
       "    </tr>\n",
       "  </thead>\n",
       "  <tbody>\n",
       "    <tr>\n",
       "      <th>0</th>\n",
       "      <td>0.831</td>\n",
       "      <td>0.814</td>\n",
       "      <td>2</td>\n",
       "      <td>-7.364</td>\n",
       "      <td>1</td>\n",
       "      <td>0.4200</td>\n",
       "      <td>0.0598</td>\n",
       "      <td>0.013400</td>\n",
       "      <td>0.0556</td>\n",
       "      <td>0.3890</td>\n",
       "      <td>...</td>\n",
       "      <td>2Vc6NJ9PW9gD9q343XFRKx</td>\n",
       "      <td>spotify:track:2Vc6NJ9PW9gD9q343XFRKx</td>\n",
       "      <td>https://api.spotify.com/v1/tracks/2Vc6NJ9PW9gD...</td>\n",
       "      <td>https://api.spotify.com/v1/audio-analysis/2Vc6...</td>\n",
       "      <td>124539</td>\n",
       "      <td>4</td>\n",
       "      <td>Dark Trap</td>\n",
       "      <td>Mercury: Retrograde</td>\n",
       "      <td>NaN</td>\n",
       "      <td>NaN</td>\n",
       "    </tr>\n",
       "    <tr>\n",
       "      <th>1</th>\n",
       "      <td>0.719</td>\n",
       "      <td>0.493</td>\n",
       "      <td>8</td>\n",
       "      <td>-7.230</td>\n",
       "      <td>1</td>\n",
       "      <td>0.0794</td>\n",
       "      <td>0.4010</td>\n",
       "      <td>0.000000</td>\n",
       "      <td>0.1180</td>\n",
       "      <td>0.1240</td>\n",
       "      <td>...</td>\n",
       "      <td>7pgJBLVz5VmnL7uGHmRj6p</td>\n",
       "      <td>spotify:track:7pgJBLVz5VmnL7uGHmRj6p</td>\n",
       "      <td>https://api.spotify.com/v1/tracks/7pgJBLVz5Vmn...</td>\n",
       "      <td>https://api.spotify.com/v1/audio-analysis/7pgJ...</td>\n",
       "      <td>224427</td>\n",
       "      <td>4</td>\n",
       "      <td>Dark Trap</td>\n",
       "      <td>Pathology</td>\n",
       "      <td>NaN</td>\n",
       "      <td>NaN</td>\n",
       "    </tr>\n",
       "    <tr>\n",
       "      <th>2</th>\n",
       "      <td>0.850</td>\n",
       "      <td>0.893</td>\n",
       "      <td>5</td>\n",
       "      <td>-4.783</td>\n",
       "      <td>1</td>\n",
       "      <td>0.0623</td>\n",
       "      <td>0.0138</td>\n",
       "      <td>0.000004</td>\n",
       "      <td>0.3720</td>\n",
       "      <td>0.0391</td>\n",
       "      <td>...</td>\n",
       "      <td>0vSWgAlfpye0WCGeNmuNhy</td>\n",
       "      <td>spotify:track:0vSWgAlfpye0WCGeNmuNhy</td>\n",
       "      <td>https://api.spotify.com/v1/tracks/0vSWgAlfpye0...</td>\n",
       "      <td>https://api.spotify.com/v1/audio-analysis/0vSW...</td>\n",
       "      <td>98821</td>\n",
       "      <td>4</td>\n",
       "      <td>Dark Trap</td>\n",
       "      <td>Symbiote</td>\n",
       "      <td>NaN</td>\n",
       "      <td>NaN</td>\n",
       "    </tr>\n",
       "  </tbody>\n",
       "</table>\n",
       "<p>3 rows × 22 columns</p>\n",
       "</div>"
      ],
      "text/plain": [
       "   danceability  energy  key  loudness  mode  speechiness  acousticness  \\\n",
       "0         0.831   0.814    2    -7.364     1       0.4200        0.0598   \n",
       "1         0.719   0.493    8    -7.230     1       0.0794        0.4010   \n",
       "2         0.850   0.893    5    -4.783     1       0.0623        0.0138   \n",
       "\n",
       "   instrumentalness  liveness  valence  ...                      id  \\\n",
       "0          0.013400    0.0556   0.3890  ...  2Vc6NJ9PW9gD9q343XFRKx   \n",
       "1          0.000000    0.1180   0.1240  ...  7pgJBLVz5VmnL7uGHmRj6p   \n",
       "2          0.000004    0.3720   0.0391  ...  0vSWgAlfpye0WCGeNmuNhy   \n",
       "\n",
       "                                    uri  \\\n",
       "0  spotify:track:2Vc6NJ9PW9gD9q343XFRKx   \n",
       "1  spotify:track:7pgJBLVz5VmnL7uGHmRj6p   \n",
       "2  spotify:track:0vSWgAlfpye0WCGeNmuNhy   \n",
       "\n",
       "                                          track_href  \\\n",
       "0  https://api.spotify.com/v1/tracks/2Vc6NJ9PW9gD...   \n",
       "1  https://api.spotify.com/v1/tracks/7pgJBLVz5Vmn...   \n",
       "2  https://api.spotify.com/v1/tracks/0vSWgAlfpye0...   \n",
       "\n",
       "                                        analysis_url duration_ms  \\\n",
       "0  https://api.spotify.com/v1/audio-analysis/2Vc6...      124539   \n",
       "1  https://api.spotify.com/v1/audio-analysis/7pgJ...      224427   \n",
       "2  https://api.spotify.com/v1/audio-analysis/0vSW...       98821   \n",
       "\n",
       "  time_signature      genre            song_name Unnamed: 0 title  \n",
       "0              4  Dark Trap  Mercury: Retrograde        NaN   NaN  \n",
       "1              4  Dark Trap            Pathology        NaN   NaN  \n",
       "2              4  Dark Trap             Symbiote        NaN   NaN  \n",
       "\n",
       "[3 rows x 22 columns]"
      ]
     },
     "execution_count": 2,
     "metadata": {},
     "output_type": "execute_result"
    }
   ],
   "source": [
    "spoti = pd.read_csv(\"/kaggle/input/dataset-of-songs-in-spotify/genres_v2.csv\", encoding='utf-8', quotechar='\"')\n",
    "spoti.head(3)"
   ]
  },
  {
   "cell_type": "code",
   "execution_count": 3,
   "id": "dried-extra",
   "metadata": {
    "execution": {
     "iopub.execute_input": "2021-04-19T00:27:04.136202Z",
     "iopub.status.busy": "2021-04-19T00:27:04.135050Z",
     "iopub.status.idle": "2021-04-19T00:27:04.139962Z",
     "shell.execute_reply": "2021-04-19T00:27:04.139249Z"
    },
    "papermill": {
     "duration": 0.030258,
     "end_time": "2021-04-19T00:27:04.140139",
     "exception": false,
     "start_time": "2021-04-19T00:27:04.109881",
     "status": "completed"
    },
    "scrolled": true,
    "tags": []
   },
   "outputs": [
    {
     "data": {
      "text/plain": [
       "(42305, 22)"
      ]
     },
     "execution_count": 3,
     "metadata": {},
     "output_type": "execute_result"
    }
   ],
   "source": [
    "spoti.shape"
   ]
  },
  {
   "cell_type": "markdown",
   "id": "judicial-interference",
   "metadata": {
    "papermill": {
     "duration": 0.018812,
     "end_time": "2021-04-19T00:27:04.179872",
     "exception": false,
     "start_time": "2021-04-19T00:27:04.161060",
     "status": "completed"
    },
    "tags": []
   },
   "source": [
    "#### CREATING song_name "
   ]
  },
  {
   "cell_type": "code",
   "execution_count": 4,
   "id": "empirical-alfred",
   "metadata": {
    "execution": {
     "iopub.execute_input": "2021-04-19T00:27:04.221942Z",
     "iopub.status.busy": "2021-04-19T00:27:04.221185Z",
     "iopub.status.idle": "2021-04-19T00:27:04.224666Z",
     "shell.execute_reply": "2021-04-19T00:27:04.225132Z"
    },
    "papermill": {
     "duration": 0.02643,
     "end_time": "2021-04-19T00:27:04.225357",
     "exception": false,
     "start_time": "2021-04-19T00:27:04.198927",
     "status": "completed"
    },
    "tags": []
   },
   "outputs": [],
   "source": [
    "song_name = spoti[\"song_name\"]"
   ]
  },
  {
   "cell_type": "code",
   "execution_count": 5,
   "id": "absolute-memorial",
   "metadata": {
    "execution": {
     "iopub.execute_input": "2021-04-19T00:27:04.271044Z",
     "iopub.status.busy": "2021-04-19T00:27:04.270260Z",
     "iopub.status.idle": "2021-04-19T00:27:04.279692Z",
     "shell.execute_reply": "2021-04-19T00:27:04.280444Z"
    },
    "papermill": {
     "duration": 0.033962,
     "end_time": "2021-04-19T00:27:04.280775",
     "exception": false,
     "start_time": "2021-04-19T00:27:04.246813",
     "status": "completed"
    },
    "tags": []
   },
   "outputs": [
    {
     "name": "stdout",
     "output_type": "stream",
     "text": [
      "(42305,)\n",
      "True\n"
     ]
    }
   ],
   "source": [
    "print(song_name.shape)\n",
    "print(song_name.isnull().values.any())"
   ]
  },
  {
   "cell_type": "code",
   "execution_count": 6,
   "id": "charming-capability",
   "metadata": {
    "execution": {
     "iopub.execute_input": "2021-04-19T00:27:04.326403Z",
     "iopub.status.busy": "2021-04-19T00:27:04.325760Z",
     "iopub.status.idle": "2021-04-19T00:27:04.329244Z",
     "shell.execute_reply": "2021-04-19T00:27:04.329785Z"
    },
    "papermill": {
     "duration": 0.028559,
     "end_time": "2021-04-19T00:27:04.329956",
     "exception": false,
     "start_time": "2021-04-19T00:27:04.301397",
     "status": "completed"
    },
    "tags": []
   },
   "outputs": [],
   "source": [
    "song_name = song_name.values.reshape(-1,1)"
   ]
  },
  {
   "cell_type": "code",
   "execution_count": 7,
   "id": "distinct-programmer",
   "metadata": {
    "execution": {
     "iopub.execute_input": "2021-04-19T00:27:04.376166Z",
     "iopub.status.busy": "2021-04-19T00:27:04.375333Z",
     "iopub.status.idle": "2021-04-19T00:27:04.381806Z",
     "shell.execute_reply": "2021-04-19T00:27:04.381120Z"
    },
    "papermill": {
     "duration": 0.031978,
     "end_time": "2021-04-19T00:27:04.381962",
     "exception": false,
     "start_time": "2021-04-19T00:27:04.349984",
     "status": "completed"
    },
    "tags": []
   },
   "outputs": [
    {
     "data": {
      "text/plain": [
       "(42305, 1)"
      ]
     },
     "execution_count": 7,
     "metadata": {},
     "output_type": "execute_result"
    }
   ],
   "source": [
    "song_name.shape"
   ]
  },
  {
   "cell_type": "markdown",
   "id": "british-banking",
   "metadata": {
    "papermill": {
     "duration": 0.019569,
     "end_time": "2021-04-19T00:27:04.421519",
     "exception": false,
     "start_time": "2021-04-19T00:27:04.401950",
     "status": "completed"
    },
    "tags": []
   },
   "source": [
    "#### REPLACING NA VALUES"
   ]
  },
  {
   "cell_type": "code",
   "execution_count": 8,
   "id": "shared-galaxy",
   "metadata": {
    "execution": {
     "iopub.execute_input": "2021-04-19T00:27:04.468309Z",
     "iopub.status.busy": "2021-04-19T00:27:04.467571Z",
     "iopub.status.idle": "2021-04-19T00:27:04.917691Z",
     "shell.execute_reply": "2021-04-19T00:27:04.917033Z"
    },
    "papermill": {
     "duration": 0.476599,
     "end_time": "2021-04-19T00:27:04.917891",
     "exception": false,
     "start_time": "2021-04-19T00:27:04.441292",
     "status": "completed"
    },
    "tags": []
   },
   "outputs": [
    {
     "data": {
      "text/html": [
       "<div>\n",
       "<style scoped>\n",
       "    .dataframe tbody tr th:only-of-type {\n",
       "        vertical-align: middle;\n",
       "    }\n",
       "\n",
       "    .dataframe tbody tr th {\n",
       "        vertical-align: top;\n",
       "    }\n",
       "\n",
       "    .dataframe thead th {\n",
       "        text-align: right;\n",
       "    }\n",
       "</style>\n",
       "<table border=\"1\" class=\"dataframe\">\n",
       "  <thead>\n",
       "    <tr style=\"text-align: right;\">\n",
       "      <th></th>\n",
       "      <th>Song-Names</th>\n",
       "    </tr>\n",
       "  </thead>\n",
       "  <tbody>\n",
       "    <tr>\n",
       "      <th>0</th>\n",
       "      <td>Mercury: Retrograde</td>\n",
       "    </tr>\n",
       "    <tr>\n",
       "      <th>1</th>\n",
       "      <td>Pathology</td>\n",
       "    </tr>\n",
       "    <tr>\n",
       "      <th>2</th>\n",
       "      <td>Symbiote</td>\n",
       "    </tr>\n",
       "  </tbody>\n",
       "</table>\n",
       "</div>"
      ],
      "text/plain": [
       "            Song-Names\n",
       "0  Mercury: Retrograde\n",
       "1            Pathology\n",
       "2             Symbiote"
      ]
     },
     "execution_count": 8,
     "metadata": {},
     "output_type": "execute_result"
    }
   ],
   "source": [
    "from sklearn.impute import SimpleImputer\n",
    "imr = SimpleImputer(missing_values=np.nan, strategy='most_frequent')\n",
    "imr = imr.fit(song_name)\n",
    "imputed_data = imr.transform(song_name)\n",
    "song_name = pd.DataFrame(imputed_data)\n",
    "song_name = song_name.rename(columns={0:\"Song-Names\"})\n",
    "song_name.head(3)"
   ]
  },
  {
   "cell_type": "markdown",
   "id": "thorough-circulation",
   "metadata": {
    "papermill": {
     "duration": 0.02061,
     "end_time": "2021-04-19T00:27:04.959974",
     "exception": false,
     "start_time": "2021-04-19T00:27:04.939364",
     "status": "completed"
    },
    "tags": []
   },
   "source": [
    "#### CREATING CORE\n",
    "Let's create a DataFrame that contains genre, mode, and duration_ms info of the given song names. <br>\n",
    "Let's name it as core."
   ]
  },
  {
   "cell_type": "code",
   "execution_count": 9,
   "id": "vocal-producer",
   "metadata": {
    "execution": {
     "iopub.execute_input": "2021-04-19T00:27:05.016669Z",
     "iopub.status.busy": "2021-04-19T00:27:05.015908Z",
     "iopub.status.idle": "2021-04-19T00:27:05.020433Z",
     "shell.execute_reply": "2021-04-19T00:27:05.020963Z"
    },
    "papermill": {
     "duration": 0.03805,
     "end_time": "2021-04-19T00:27:05.021207",
     "exception": false,
     "start_time": "2021-04-19T00:27:04.983157",
     "status": "completed"
    },
    "tags": []
   },
   "outputs": [
    {
     "name": "stdout",
     "output_type": "stream",
     "text": [
      "genre          object\n",
      "mode            int64\n",
      "duration_ms     int64\n",
      "dtype: object\n",
      "       genre  mode  duration_ms\n",
      "0  Dark Trap     1       124539\n",
      "1  Dark Trap     1       224427\n",
      "2  Dark Trap     1        98821\n",
      "3  Dark Trap     1       123661\n",
      "4  Dark Trap     1       123298\n"
     ]
    }
   ],
   "source": [
    "core = spoti[[\"genre\",\"mode\",\"duration_ms\"]]\n",
    "print(core.dtypes)\n",
    "print(core.head())"
   ]
  },
  {
   "cell_type": "code",
   "execution_count": 10,
   "id": "conditional-metro",
   "metadata": {
    "execution": {
     "iopub.execute_input": "2021-04-19T00:27:05.072766Z",
     "iopub.status.busy": "2021-04-19T00:27:05.072011Z",
     "iopub.status.idle": "2021-04-19T00:27:05.077011Z",
     "shell.execute_reply": "2021-04-19T00:27:05.077574Z"
    },
    "papermill": {
     "duration": 0.035061,
     "end_time": "2021-04-19T00:27:05.077823",
     "exception": false,
     "start_time": "2021-04-19T00:27:05.042762",
     "status": "completed"
    },
    "tags": []
   },
   "outputs": [
    {
     "data": {
      "text/plain": [
       "genre          object\n",
       "mode            int64\n",
       "duration_ms     int64\n",
       "dtype: object"
      ]
     },
     "execution_count": 10,
     "metadata": {},
     "output_type": "execute_result"
    }
   ],
   "source": [
    "core.dtypes"
   ]
  },
  {
   "cell_type": "markdown",
   "id": "hearing-serum",
   "metadata": {
    "papermill": {
     "duration": 0.021848,
     "end_time": "2021-04-19T00:27:05.122876",
     "exception": false,
     "start_time": "2021-04-19T00:27:05.101028",
     "status": "completed"
    },
    "tags": []
   },
   "source": [
    "Hmm, looks like dtype of genre is object, and it contains string values. Let's encode them and make convinient for M.L. algorithm. "
   ]
  },
  {
   "cell_type": "code",
   "execution_count": 11,
   "id": "welcome-machinery",
   "metadata": {
    "execution": {
     "iopub.execute_input": "2021-04-19T00:27:05.178448Z",
     "iopub.status.busy": "2021-04-19T00:27:05.177765Z",
     "iopub.status.idle": "2021-04-19T00:27:05.190277Z",
     "shell.execute_reply": "2021-04-19T00:27:05.189712Z"
    },
    "papermill": {
     "duration": 0.04602,
     "end_time": "2021-04-19T00:27:05.190414",
     "exception": false,
     "start_time": "2021-04-19T00:27:05.144394",
     "status": "completed"
    },
    "tags": []
   },
   "outputs": [
    {
     "data": {
      "text/plain": [
       "Underground Rap    5875\n",
       "Dark Trap          4578\n",
       "Hiphop             3028\n",
       "trance             2999\n",
       "trap               2987\n",
       "techhouse          2975\n",
       "dnb                2966\n",
       "psytrance          2961\n",
       "techno             2956\n",
       "hardstyle          2936\n",
       "RnB                2099\n",
       "Trap Metal         1956\n",
       "Rap                1848\n",
       "Emo                1680\n",
       "Pop                 461\n",
       "Name: genre, dtype: int64"
      ]
     },
     "execution_count": 11,
     "metadata": {},
     "output_type": "execute_result"
    }
   ],
   "source": [
    "core[\"genre\"].value_counts()"
   ]
  },
  {
   "cell_type": "code",
   "execution_count": 12,
   "id": "driving-lithuania",
   "metadata": {
    "execution": {
     "iopub.execute_input": "2021-04-19T00:27:05.240578Z",
     "iopub.status.busy": "2021-04-19T00:27:05.239916Z",
     "iopub.status.idle": "2021-04-19T00:27:05.313505Z",
     "shell.execute_reply": "2021-04-19T00:27:05.314174Z"
    },
    "papermill": {
     "duration": 0.102516,
     "end_time": "2021-04-19T00:27:05.314349",
     "exception": false,
     "start_time": "2021-04-19T00:27:05.211833",
     "status": "completed"
    },
    "tags": []
   },
   "outputs": [],
   "source": [
    "core = core.replace({\"genre\":{\"Underground Rap\":0, \"Dark Trap\":1, \"Hiphop\":2, \"trance\":3, \"trap\":4, \"techhouse\":5, \"dnb\":6, \"psytrance\": 7, \"techno\":8, \"hardstyle\":9, \"RnB\":10, \"Trap Metal\":11, \"Rap\":12, \"Emo\":13, \"Pop\":14}})"
   ]
  },
  {
   "cell_type": "markdown",
   "id": "outstanding-laugh",
   "metadata": {
    "papermill": {
     "duration": 0.021435,
     "end_time": "2021-04-19T00:27:05.358250",
     "exception": false,
     "start_time": "2021-04-19T00:27:05.336815",
     "status": "completed"
    },
    "tags": []
   },
   "source": [
    "#### APPLYING NMF\n",
    "Non-negative matrix factorization (NMF), also non-negative matrix approximation is a group of algorithms in multivariate analysis and linear algebra where a matrix V is factorized into (usually) two matrices W and H, with the property that all three matrices have no negative elements. This non-negativity makes the resulting matrices easier to inspect."
   ]
  },
  {
   "cell_type": "code",
   "execution_count": 13,
   "id": "musical-response",
   "metadata": {
    "execution": {
     "iopub.execute_input": "2021-04-19T00:27:05.405724Z",
     "iopub.status.busy": "2021-04-19T00:27:05.405032Z",
     "iopub.status.idle": "2021-04-19T00:27:05.469453Z",
     "shell.execute_reply": "2021-04-19T00:27:05.470305Z"
    },
    "papermill": {
     "duration": 0.090713,
     "end_time": "2021-04-19T00:27:05.470593",
     "exception": false,
     "start_time": "2021-04-19T00:27:05.379880",
     "status": "completed"
    },
    "scrolled": true,
    "tags": []
   },
   "outputs": [
    {
     "name": "stderr",
     "output_type": "stream",
     "text": [
      "/opt/conda/lib/python3.7/site-packages/sklearn/decomposition/_nmf.py:315: FutureWarning: The 'init' value, when 'init=None' and n_components is less than n_samples and n_features, will be changed from 'nndsvd' to 'nndsvda' in 1.1 (renaming of 0.26).\n",
      "  \"'nndsvda' in 1.1 (renaming of 0.26).\"), FutureWarning)\n"
     ]
    }
   ],
   "source": [
    "from sklearn.decomposition import NMF\n",
    "nmf = NMF(n_components = 6)\n",
    "nmf_features = nmf.fit_transform(core)"
   ]
  },
  {
   "cell_type": "markdown",
   "id": "verified-region",
   "metadata": {
    "papermill": {
     "duration": 0.040058,
     "end_time": "2021-04-19T00:27:05.549880",
     "exception": false,
     "start_time": "2021-04-19T00:27:05.509822",
     "status": "completed"
    },
    "tags": []
   },
   "source": [
    "#### PREPROCESSING"
   ]
  },
  {
   "cell_type": "markdown",
   "id": "defensive-reasoning",
   "metadata": {
    "papermill": {
     "duration": 0.021866,
     "end_time": "2021-04-19T00:27:05.609195",
     "exception": false,
     "start_time": "2021-04-19T00:27:05.587329",
     "status": "completed"
    },
    "tags": []
   },
   "source": [
    "`normalize()` samples individually to unit norm. Each sample (i.e. each row of the data matrix) with at least one non zero component is rescaled independently of other samples so that its norm (l1, l2 or inf) equals one. This transformer is able to work both with dense numpy arrays and scipy."
   ]
  },
  {
   "cell_type": "code",
   "execution_count": 14,
   "id": "looking-contrast",
   "metadata": {
    "execution": {
     "iopub.execute_input": "2021-04-19T00:27:05.660890Z",
     "iopub.status.busy": "2021-04-19T00:27:05.659903Z",
     "iopub.status.idle": "2021-04-19T00:27:05.671109Z",
     "shell.execute_reply": "2021-04-19T00:27:05.671946Z"
    },
    "papermill": {
     "duration": 0.040909,
     "end_time": "2021-04-19T00:27:05.672217",
     "exception": false,
     "start_time": "2021-04-19T00:27:05.631308",
     "status": "completed"
    },
    "tags": []
   },
   "outputs": [
    {
     "data": {
      "text/plain": [
       "array([0.90383308, 0.73816748, 0.73917186, ..., 0.79823267, 0.76055005,\n",
       "       0.6870818 ])"
      ]
     },
     "execution_count": 14,
     "metadata": {},
     "output_type": "execute_result"
    }
   ],
   "source": [
    "from sklearn.preprocessing import normalize\n",
    "norm_features = normalize(nmf_features)\n",
    "current_music = norm_features[23,:]\n",
    "similarities = norm_features.dot(current_music)\n",
    "similarities"
   ]
  },
  {
   "cell_type": "markdown",
   "id": "downtown-basin",
   "metadata": {
    "papermill": {
     "duration": 0.03971,
     "end_time": "2021-04-19T00:27:05.752027",
     "exception": false,
     "start_time": "2021-04-19T00:27:05.712317",
     "status": "completed"
    },
    "tags": []
   },
   "source": [
    "#### LAST TOUCHES AND CREATING current_music() function"
   ]
  },
  {
   "cell_type": "code",
   "execution_count": 15,
   "id": "typical-closing",
   "metadata": {
    "execution": {
     "iopub.execute_input": "2021-04-19T00:27:05.824148Z",
     "iopub.status.busy": "2021-04-19T00:27:05.823370Z",
     "iopub.status.idle": "2021-04-19T00:27:05.906085Z",
     "shell.execute_reply": "2021-04-19T00:27:05.906557Z"
    },
    "papermill": {
     "duration": 0.117419,
     "end_time": "2021-04-19T00:27:05.906799",
     "exception": false,
     "start_time": "2021-04-19T00:27:05.789380",
     "status": "completed"
    },
    "tags": []
   },
   "outputs": [],
   "source": [
    "df = pd.DataFrame(norm_features)\n",
    "x = df.join(song_name)\n",
    "df = pd.pivot_table(x, x[[0,1,2,3,4,5]],[\"Song-Names\"])#for indexing song_name to our df\n",
    "def current_music(value):\n",
    "    print(\"Top 5 recommendations for given music are:\")\n",
    "    value = df.loc[value]\n",
    "    similarities = df.dot(value)\n",
    "    print(format(similarities.nlargest()))"
   ]
  },
  {
   "cell_type": "code",
   "execution_count": 16,
   "id": "essential-classroom",
   "metadata": {
    "execution": {
     "iopub.execute_input": "2021-04-19T00:27:05.957015Z",
     "iopub.status.busy": "2021-04-19T00:27:05.956051Z",
     "iopub.status.idle": "2021-04-19T00:27:05.975584Z",
     "shell.execute_reply": "2021-04-19T00:27:05.976472Z"
    },
    "papermill": {
     "duration": 0.047154,
     "end_time": "2021-04-19T00:27:05.976783",
     "exception": false,
     "start_time": "2021-04-19T00:27:05.929629",
     "status": "completed"
    },
    "scrolled": true,
    "tags": []
   },
   "outputs": [
    {
     "name": "stdout",
     "output_type": "stream",
     "text": [
      "Top 5 recommendations for given music are:\n",
      "Song-Names\n",
      "Missed Calls - Remix                     1.000000\n",
      "Tear$                                    0.999852\n",
      "Someone Protects Her (Prod. By Falls)    0.999851\n",
      "Leech                                    0.999706\n",
      "Chimes                                   0.999470\n",
      "dtype: float64\n"
     ]
    }
   ],
   "source": [
    "current_music(\"Missed Calls - Remix\")"
   ]
  }
 ],
 "metadata": {
  "kernelspec": {
   "display_name": "Python 3",
   "language": "python",
   "name": "python3"
  },
  "language_info": {
   "codemirror_mode": {
    "name": "ipython",
    "version": 3
   },
   "file_extension": ".py",
   "mimetype": "text/x-python",
   "name": "python",
   "nbconvert_exporter": "python",
   "pygments_lexer": "ipython3",
   "version": "3.7.9"
  },
  "papermill": {
   "default_parameters": {},
   "duration": 17.402901,
   "end_time": "2021-04-19T00:27:07.137193",
   "environment_variables": {},
   "exception": null,
   "input_path": "__notebook__.ipynb",
   "output_path": "__notebook__.ipynb",
   "parameters": {},
   "start_time": "2021-04-19T00:26:49.734292",
   "version": "2.3.2"
  }
 },
 "nbformat": 4,
 "nbformat_minor": 5
}
